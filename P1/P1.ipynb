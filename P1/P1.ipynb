{
 "cells": [
  {
   "cell_type": "markdown",
   "metadata": {},
   "source": [
    "# Computación en la nube\n",
    "\n",
    "## Manual de actividad practica 1: Despliegue básico\n",
    "\n",
    "El objetivo de esta practica es tener una primera toma de contacto con los servicios de AWS y aplicar los conocimientos obtenidos en la clase teórica. Para ello se utilizara el servicio EC2 para  preparar y desplegar instancias en la nube."
   ]
  },
  {
   "cell_type": "markdown",
   "metadata": {},
   "source": [
    "## Actividades"
   ]
  },
  {
   "cell_type": "markdown",
   "metadata": {},
   "source": [
    "## 1. Despliega una instancia en EC2 que se pueda acceder por SSH desde el exterior, que llamaremos SSH_gate"
   ]
  },
  {
   "cell_type": "markdown",
   "metadata": {},
   "source": [
    "Desde el panel de servicios de AWS seleccionamos la opción de EC2\n",
    "\n",
    "![EC2 Dashboard](img/ec2_dashboard.png)\n",
    "\n",
    "Y desplegamos una instancia con las siguientes características:\n",
    "\n",
    "- AMI: `Amazon Linux 2023`\n",
    "  - ID: `ami-0ebfd941bbafe70c6`\n",
    "- Instance Type: `t2.micro`\n",
    "  - Family: `t2`\n",
    "  - vCPU: `1`\n",
    "  - RAM: `1 GiB`\n",
    "- Key Pair: `vockey`\n",
    "\n",
    "Storage:\n",
    "\n",
    "- Volume: `8 GiB`\n",
    "- Type: `gp3`\n",
    "\n",
    "2. Configuración de la Red y del Grupo de Seguridad\n",
    "\n",
    "- VPC: `default`\n",
    "- Subnet: `default`\n",
    "- Public IP: `Auto-assign public IP`\n",
    "- Security Group:\n",
    "  - Name: `SSH_gate`\n",
    "  - Description: `Security group for SSH_gate`\n",
    "  - Inbound Rules:\n",
    "    - Type: `SSH`\n",
    "      - Port Range: `22`\n",
    "      - Source: `0.0.0.0/0` (Anywhere)\n",
    "\n",
    "3. Lanzamos la instancia y esperamos a que esté disponible\n",
    "\n",
    "![EC2 Dashboard](img/ec2_instance_running.png)\n",
    "\n",
    "4. Accede a la instancia SSH_gate por SSH\n",
    "\n",
    "Nos hace falta:\n",
    "\n",
    "- Un cliente SSH\n",
    "- La clave privada: `vockey.pem`\n",
    "  - En linux/macOS: `chmod 400 vockey.pem`\n",
    "- El usuario: `ec2-user`\n",
    "\n",
    "```bash\n",
    "ssh -i \"~/.ssh/vockey.pem\" ec2-user@ec2-54-87-55-252.compute-1.amazonaws.com\n",
    "```\n",
    "\n",
    "![SSH connection](img/ssh_connection.png)"
   ]
  },
  {
   "cell_type": "markdown",
   "metadata": {},
   "source": [
    "## Despliegue una instancia en EC2 que tenga una servidor web en la que muestre su nombre y su afición favorita. Esta maquina solo podrá ser accedida por SSH desde la maquina que desplegamos anteriormente SSH_gate.\n",
    "   \n",
    "Hay muchas formas de montar un servidor web, pero aquí tienen un script simple que \n",
    "deberán modificar y os podría servir de punto de inicio:\n",
    "\n",
    "```bash\n",
    "#!/bin/bash\n",
    "yum update -y\n",
    "yum -y install httpd\n",
    "systemctl enable httpd\n",
    "systemctl start httpd\n",
    "echo '<html><h1>&#925&#927 &#924&#917 h&#917 l&#917&#921d&#927 l&#913 \n",
    "&#929r&#913ct&#921c&#913</h1></html>' > /var/www/html/index.html\n",
    "```"
   ]
  },
  {
   "cell_type": "code",
   "execution_count": null,
   "metadata": {},
   "outputs": [],
   "source": []
  }
 ],
 "metadata": {
  "kernelspec": {
   "display_name": "CN_P1",
   "language": "python",
   "name": "python3"
  },
  "language_info": {
   "codemirror_mode": {
    "name": "ipython",
    "version": 3
   },
   "file_extension": ".py",
   "mimetype": "text/x-python",
   "name": "python",
   "nbconvert_exporter": "python",
   "pygments_lexer": "ipython3",
   "version": "3.11.9"
  }
 },
 "nbformat": 4,
 "nbformat_minor": 2
}
